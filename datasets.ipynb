{
  "nbformat": 4,
  "nbformat_minor": 0,
  "metadata": {
    "colab": {
      "name": "datasets.ipynb",
      "version": "0.3.2",
      "provenance": [],
      "include_colab_link": true
    },
    "kernelspec": {
      "name": "python3",
      "display_name": "Python 3"
    }
  },
  "cells": [
    {
      "cell_type": "markdown",
      "metadata": {
        "id": "view-in-github",
        "colab_type": "text"
      },
      "source": [
        "<a href=\"https://colab.research.google.com/github/jamissonfreitas/MLSTM-FCN/blob/develop/datasets.ipynb\" target=\"_parent\"><img src=\"https://colab.research.google.com/assets/colab-badge.svg\" alt=\"Open In Colab\"/></a>"
      ]
    },
    {
      "cell_type": "code",
      "metadata": {
        "id": "4YmtL9OdX_8U",
        "colab_type": "code",
        "colab": {}
      },
      "source": [
        "import matplotlib.pyplot as plt\n"
      ],
      "execution_count": 0,
      "outputs": []
    },
    {
      "cell_type": "code",
      "metadata": {
        "id": "mKtkfvxAZWLZ",
        "colab_type": "code",
        "colab": {
          "base_uri": "https://localhost:8080/",
          "height": 54
        },
        "outputId": "f9d663f0-2f4b-4341-b005-b8ac959c4db9"
      },
      "source": [
        "  \"\"\"\n",
        "   -- LP1: 24% normal\n",
        "           19% collision    \n",
        "           18% front collision\n",
        "           39% obstruction\n",
        "   -- LP2: 43% normal\n",
        "           13% front collision\n",
        "           15% back collision\n",
        "           11% collision to the right\n",
        "           19% collision to the left\n",
        "   -- LP3: 43% ok\n",
        "           19% slightly moved\n",
        "           32% moved\n",
        "            6% lost\n",
        "   -- LP4: 21% normal\n",
        "           62% collision\n",
        "           18% obstruction\n",
        "   -- LP5: 27% normal\n",
        "           16% bottom collision\n",
        "           13% bottom obstruction\n",
        "           29% collision in part\n",
        "           16% collision in tool\n",
        "  \"\"\""
      ],
      "execution_count": 3,
      "outputs": [
        {
          "output_type": "execute_result",
          "data": {
            "text/plain": [
              "'\\n -- LP1: 24% normal\\n         19% collision    \\n         18% front collision\\n         39% obstruction\\n -- LP2: 43% normal\\n         13% front collision\\n         15% back collision\\n         11% collision to the right\\n         19% collision to the left\\n -- LP3: 43% ok\\n         19% slightly moved\\n         32% moved\\n          6% lost\\n -- LP4: 21% normal\\n         62% collision\\n         18% obstruction\\n -- LP5: 27% normal\\n         16% bottom collision\\n         13% bottom obstruction\\n         29% collision in part\\n         16% collision in tool\\n'"
            ]
          },
          "metadata": {
            "tags": []
          },
          "execution_count": 3
        }
      ]
    },
    {
      "cell_type": "code",
      "metadata": {
        "id": "o9ag8TDYZXFQ",
        "colab_type": "code",
        "colab": {
          "base_uri": "https://localhost:8080/",
          "height": 285
        },
        "outputId": "a56014b5-6cd6-4bf5-b4b4-7bb9cc383f63"
      },
      "source": [
        "plt.pie(\n",
        "    x=[.24, .19, .18, .39], \n",
        "    labels=['normal', 'collision', 'front collision', 'obstruction'],\n",
        "    autopct='%.f%%'\n",
        ")\n",
        "plt.title('LP1')"
      ],
      "execution_count": 12,
      "outputs": [
        {
          "output_type": "execute_result",
          "data": {
            "text/plain": [
              "Text(0.5, 1.0, 'LP1')"
            ]
          },
          "metadata": {
            "tags": []
          },
          "execution_count": 12
        },
        {
          "output_type": "display_data",
          "data": {
            "image/png": "[encoded data removed]",
            "text/plain": [
              "<Figure size 432x288 with 1 Axes>"
            ]
          },
          "metadata": {
            "tags": []
          }
        }
      ]
    },
    {
      "cell_type": "code",
      "metadata": {
        "id": "RSK_HS4hab2L",
        "colab_type": "code",
        "colab": {
          "base_uri": "https://localhost:8080/",
          "height": 285
        },
        "outputId": "4696f82e-541e-44f8-96c7-568fc9a4c196"
      },
      "source": [
        "plt.pie(\n",
        "    x=[.43, .13, .15, .11, .19], \n",
        "    labels=['normal', 'front collision', 'back collision', 'collision to the right', 'collision to the left'],\n",
        "    autopct='%.f%%'\n",
        ")\n",
        "plt.title('LP2')"
      ],
      "execution_count": 13,
      "outputs": [
        {
          "output_type": "execute_result",
          "data": {
            "text/plain": [
              "Text(0.5, 1.0, 'LP2')"
            ]
          },
          "metadata": {
            "tags": []
          },
          "execution_count": 13
        },
        {
          "output_type": "display_data",
          "data": {
            "image/png": "[encoded data removed]",
            "text/plain": [
              "<Figure size 432x288 with 1 Axes>"
            ]
          },
          "metadata": {
            "tags": []
          }
        }
      ]
    },
    {
      "cell_type": "code",
      "metadata": {
        "id": "z3Dc_lpGcRI2",
        "colab_type": "code",
        "colab": {}
      },
      "source": [
        ""
      ],
      "execution_count": 0,
      "outputs": []
    }
  ]
}