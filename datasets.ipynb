{
  "nbformat": 4,
  "nbformat_minor": 0,
  "metadata": {
    "colab": {
      "name": "datasets.ipynb",
      "version": "0.3.2",
      "provenance": [],
      "include_colab_link": true
    },
    "kernelspec": {
      "name": "python3",
      "display_name": "Python 3"
    }
  },
  "cells": [
    {
      "cell_type": "markdown",
      "metadata": {
        "id": "view-in-github",
        "colab_type": "text"
      },
      "source": [
        "<a href=\"https://colab.research.google.com/github/jamissonfreitas/MLSTM-FCN/blob/develop/datasets.ipynb\" target=\"_parent\"><img src=\"https://colab.research.google.com/assets/colab-badge.svg\" alt=\"Open In Colab\"/></a>"
      ]
    },
    {
      "cell_type": "code",
      "metadata": {
        "id": "4YmtL9OdX_8U",
        "colab_type": "code",
        "colab": {}
      },
      "source": [
        "import matplotlib.pyplot as plt\n",
        "import pandas as pd\n"
      ],
      "execution_count": 0,
      "outputs": []
    },
    {
      "cell_type": "code",
      "metadata": {
        "id": "mKtkfvxAZWLZ",
        "colab_type": "code",
        "outputId": "6c325cb2-94f2-414a-b849-a01628aae15c",
        "colab": {
          "base_uri": "https://localhost:8080/",
          "height": 34
        }
      },
      "source": [
        "  \"\"\"\n",
        "   -- LP1: 24% normal\n",
        "           19% collision    \n",
        "           18% front collision\n",
        "           39% obstruction\n",
        "  \"\"\""
      ],
      "execution_count": 2,
      "outputs": [
        {
          "output_type": "execute_result",
          "data": {
            "text/plain": [
              "'\\n -- LP1: 24% normal\\n         19% collision    \\n         18% front collision\\n         39% obstruction\\n'"
            ]
          },
          "metadata": {
            "tags": []
          },
          "execution_count": 2
        }
      ]
    },
    {
      "cell_type": "code",
      "metadata": {
        "id": "o9ag8TDYZXFQ",
        "colab_type": "code",
        "outputId": "c3376878-fd8b-4a31-ddf6-e67be2386c2f",
        "colab": {
          "base_uri": "https://localhost:8080/",
          "height": 285
        }
      },
      "source": [
        "plt.pie(\n",
        "    x=[.24, .19, .18, .39], \n",
        "    labels=['normal', 'collision', 'front collision', 'obstruction'],\n",
        "    autopct='%.f%%'\n",
        ")\n",
        "plt.title('LP1')"
      ],
      "execution_count": 3,
      "outputs": [
        {
          "output_type": "execute_result",
          "data": {
            "text/plain": [
              "Text(0.5, 1.0, 'LP1')"
            ]
          },
          "metadata": {
            "tags": []
          },
          "execution_count": 3
        },
        {
          "output_type": "display_data",
          "data": {
            "image/png": "[encoded data removed]",
            "text/plain": [
              "<Figure size 432x288 with 1 Axes>"
            ]
          },
          "metadata": {
            "tags": []
          }
        }
      ]
    },
    {
      "cell_type": "code",
      "metadata": {
        "id": "RSK_HS4hab2L",
        "colab_type": "code",
        "outputId": "2e426ce9-15a3-4ca4-ca8a-817b5514cb84",
        "colab": {
          "base_uri": "https://localhost:8080/",
          "height": 285
        }
      },
      "source": [
        "\"\"\"\n",
        "   -- LP2: 43% normal\n",
        "           13% front collision\n",
        "           15% back collision\n",
        "           11% collision to the right\n",
        "           19% collision to the left\n",
        "\"\"\"\n",
        "\n",
        "plt.pie(\n",
        "    x=[.43, .13, .15, .11, .19], \n",
        "    labels=['normal', 'front collision', 'back collision', 'collision to the right', 'collision to the left'],\n",
        "    autopct='%.f%%'\n",
        ")\n",
        "plt.title('LP2')"
      ],
      "execution_count": 4,
      "outputs": [
        {
          "output_type": "execute_result",
          "data": {
            "text/plain": [
              "Text(0.5, 1.0, 'LP2')"
            ]
          },
          "metadata": {
            "tags": []
          },
          "execution_count": 4
        },
        {
          "output_type": "display_data",
          "data": {
            "image/png": "[encoded data removed]",
            "text/plain": [
              "<Figure size 432x288 with 1 Axes>"
            ]
          },
          "metadata": {
            "tags": []
          }
        }
      ]
    },
    {
      "cell_type": "code",
      "metadata": {
        "id": "z3Dc_lpGcRI2",
        "colab_type": "code",
        "outputId": "eb259a2a-89ff-46dd-b5a3-f6dd8b0fb13a",
        "colab": {
          "base_uri": "https://localhost:8080/",
          "height": 285
        }
      },
      "source": [
        "\"\"\"\n",
        "   -- LP3: 43% ok\n",
        "           19% slightly moved\n",
        "           32% moved\n",
        "            6% lost\n",
        "\"\"\"\n",
        "plt.pie(\n",
        "    x=[.43, .19, .32, .6], \n",
        "    labels=['normal', 'slightly moved', 'moved', 'lost'],\n",
        "    autopct='%.f%%'\n",
        ")\n",
        "plt.title('LP3')"
      ],
      "execution_count": 5,
      "outputs": [
        {
          "output_type": "execute_result",
          "data": {
            "text/plain": [
              "Text(0.5, 1.0, 'LP3')"
            ]
          },
          "metadata": {
            "tags": []
          },
          "execution_count": 5
        },
        {
          "output_type": "display_data",
          "data": {
            "image/png": "[encoded data removed]",
            "text/plain": [
              "<Figure size 432x288 with 1 Axes>"
            ]
          },
          "metadata": {
            "tags": []
          }
        }
      ]
    },
    {
      "cell_type": "code",
      "metadata": {
        "id": "zZBlGW4RdT8W",
        "colab_type": "code",
        "outputId": "3dc86b06-9840-4949-ec79-c0b24a3131c9",
        "colab": {
          "base_uri": "https://localhost:8080/",
          "height": 285
        }
      },
      "source": [
        "\"\"\"\n",
        "   -- LP4: 21% normal\n",
        "           62% collision\n",
        "           18% obstruction\n",
        "\"\"\"\n",
        "plt.pie(\n",
        "    x=[.21, .62, .18], \n",
        "    labels=['normal', 'collision', 'obstruction'],\n",
        "    autopct='%.f%%'\n",
        ")\n",
        "plt.title('LP4')"
      ],
      "execution_count": 6,
      "outputs": [
        {
          "output_type": "execute_result",
          "data": {
            "text/plain": [
              "Text(0.5, 1.0, 'LP4')"
            ]
          },
          "metadata": {
            "tags": []
          },
          "execution_count": 6
        },
        {
          "output_type": "display_data",
          "data": {
            "image/png": "[encoded data removed]",
            "text/plain": [
              "<Figure size 432x288 with 1 Axes>"
            ]
          },
          "metadata": {
            "tags": []
          }
        }
      ]
    },
    {
      "cell_type": "code",
      "metadata": {
        "id": "n13TnaOrdko-",
        "colab_type": "code",
        "outputId": "38ced90f-12d9-4a7d-e336-327ee4471ccd",
        "colab": {
          "base_uri": "https://localhost:8080/",
          "height": 285
        }
      },
      "source": [
        "\"\"\"\n",
        "   -- LP5: 27% normal\n",
        "           16% bottom collision\n",
        "           13% bottom obstruction\n",
        "           29% collision in part\n",
        "           16% collision in tool\n",
        "\"\"\"\n",
        "plt.pie(\n",
        "    x=[.27, .16, .13, .29, .16], \n",
        "    labels=['normal', 'bottom collision', 'bottom obstruction', 'collision in part', 'collision in tool'],\n",
        "    autopct='%.f%%'\n",
        ")\n",
        "plt.title('LP5')"
      ],
      "execution_count": 7,
      "outputs": [
        {
          "output_type": "execute_result",
          "data": {
            "text/plain": [
              "Text(0.5, 1.0, 'LP5')"
            ]
          },
          "metadata": {
            "tags": []
          },
          "execution_count": 7
        },
        {
          "output_type": "display_data",
          "data": {
            "image/png": "[encoded data removed]",
            "text/plain": [
              "<Figure size 432x288 with 1 Axes>"
            ]
          },
          "metadata": {
            "tags": []
          }
        }
      ]
    },
    {
      "cell_type": "code",
      "metadata": {
        "id": "5t6ZA4Rzd4Gf",
        "colab_type": "code",
        "colab": {}
      },
      "source": [
        ""
      ],
      "execution_count": 0,
      "outputs": []
    },
    {
      "cell_type": "markdown",
      "metadata": {
        "id": "bFMQP5XUufEd",
        "colab_type": "text"
      },
      "source": [
        "# Results"
      ]
    },
    {
      "cell_type": "code",
      "metadata": {
        "id": "zgQkpSIRuhcd",
        "colab_type": "code",
        "colab": {
          "base_uri": "https://localhost:8080/",
          "height": 1000
        },
        "outputId": "e9c7f38f-5312-42b3-de64-d179d484cb48"
      },
      "source": [
        "from io import StringIO\n",
        "results = StringIO(\"\"\"\n",
        "problem;acc\n",
        "lp1;80.000000\n",
        "lp1;80.000000\n",
        "lp1;80.000000\n",
        "lp2;73.333333\n",
        "lp2;73.333333\n",
        "lp2;73.333333\n",
        "lp3;70.000000\n",
        "lp3;70.000000\n",
        "lp3;70.000000\n",
        "lp4;89.333333\n",
        "lp4;88.000000\n",
        "lp4;86.666667\n",
        "lp5;65.000000\n",
        "lp5;67.000000\n",
        "lp5;67.000000\n",
        "lp1;78.000000\n",
        "lp1;74.000000\n",
        "lp1;76.000000\n",
        "lp1;76.000000\n",
        "lp1;76.000000\n",
        "lp2;76.666667\n",
        "lp2;76.666667\n",
        "lp2;76.666667\n",
        "lp2;76.666667\n",
        "lp2;76.666667\n",
        "lp3;66.666667\n",
        "lp3;60.000000\n",
        "lp3;63.333333\n",
        "lp3;66.666667\n",
        "lp3;66.666667\n",
        "lp4;88.000000\n",
        "lp4;88.000000\n",
        "lp4;88.000000\n",
        "lp4;88.000000\n",
        "lp4;88.000000\n",
        "lp5;62.000000\n",
        "lp5;61.000000\n",
        "lp5;60.000000\n",
        "lp5;61.000000\n",
        "lp5;62.000000\n",
        "\"\"\")\n",
        "\n",
        "\n",
        "df = pd.read_csv(results, sep=\";\")\n",
        "df"
      ],
      "execution_count": 11,
      "outputs": [
        {
          "output_type": "execute_result",
          "data": {
            "text/html": [
              "<div>\n",
              "<style scoped>\n",
              "    .dataframe tbody tr th:only-of-type {\n",
              "        vertical-align: middle;\n",
              "    }\n",
              "\n",
              "    .dataframe tbody tr th {\n",
              "        vertical-align: top;\n",
              "    }\n",
              "\n",
              "    .dataframe thead th {\n",
              "        text-align: right;\n",
              "    }\n",
              "</style>\n",
              "<table border=\"1\" class=\"dataframe\">\n",
              "  <thead>\n",
              "    <tr style=\"text-align: right;\">\n",
              "      <th></th>\n",
              "      <th>problem</th>\n",
              "      <th>acc</th>\n",
              "    </tr>\n",
              "  </thead>\n",
              "  <tbody>\n",
              "    <tr>\n",
              "      <th>0</th>\n",
              "      <td>lp1</td>\n",
              "      <td>80.000000</td>\n",
              "    </tr>\n",
              "    <tr>\n",
              "      <th>1</th>\n",
              "      <td>lp1</td>\n",
              "      <td>80.000000</td>\n",
              "    </tr>\n",
              "    <tr>\n",
              "      <th>2</th>\n",
              "      <td>lp1</td>\n",
              "      <td>80.000000</td>\n",
              "    </tr>\n",
              "    <tr>\n",
              "      <th>3</th>\n",
              "      <td>lp2</td>\n",
              "      <td>73.333333</td>\n",
              "    </tr>\n",
              "    <tr>\n",
              "      <th>4</th>\n",
              "      <td>lp2</td>\n",
              "      <td>73.333333</td>\n",
              "    </tr>\n",
              "    <tr>\n",
              "      <th>5</th>\n",
              "      <td>lp2</td>\n",
              "      <td>73.333333</td>\n",
              "    </tr>\n",
              "    <tr>\n",
              "      <th>6</th>\n",
              "      <td>lp3</td>\n",
              "      <td>70.000000</td>\n",
              "    </tr>\n",
              "    <tr>\n",
              "      <th>7</th>\n",
              "      <td>lp3</td>\n",
              "      <td>70.000000</td>\n",
              "    </tr>\n",
              "    <tr>\n",
              "      <th>8</th>\n",
              "      <td>lp3</td>\n",
              "      <td>70.000000</td>\n",
              "    </tr>\n",
              "    <tr>\n",
              "      <th>9</th>\n",
              "      <td>lp4</td>\n",
              "      <td>89.333333</td>\n",
              "    </tr>\n",
              "    <tr>\n",
              "      <th>10</th>\n",
              "      <td>lp4</td>\n",
              "      <td>88.000000</td>\n",
              "    </tr>\n",
              "    <tr>\n",
              "      <th>11</th>\n",
              "      <td>lp4</td>\n",
              "      <td>86.666667</td>\n",
              "    </tr>\n",
              "    <tr>\n",
              "      <th>12</th>\n",
              "      <td>lp5</td>\n",
              "      <td>65.000000</td>\n",
              "    </tr>\n",
              "    <tr>\n",
              "      <th>13</th>\n",
              "      <td>lp5</td>\n",
              "      <td>67.000000</td>\n",
              "    </tr>\n",
              "    <tr>\n",
              "      <th>14</th>\n",
              "      <td>lp5</td>\n",
              "      <td>67.000000</td>\n",
              "    </tr>\n",
              "    <tr>\n",
              "      <th>15</th>\n",
              "      <td>lp1</td>\n",
              "      <td>78.000000</td>\n",
              "    </tr>\n",
              "    <tr>\n",
              "      <th>16</th>\n",
              "      <td>lp1</td>\n",
              "      <td>74.000000</td>\n",
              "    </tr>\n",
              "    <tr>\n",
              "      <th>17</th>\n",
              "      <td>lp1</td>\n",
              "      <td>76.000000</td>\n",
              "    </tr>\n",
              "    <tr>\n",
              "      <th>18</th>\n",
              "      <td>lp1</td>\n",
              "      <td>76.000000</td>\n",
              "    </tr>\n",
              "    <tr>\n",
              "      <th>19</th>\n",
              "      <td>lp1</td>\n",
              "      <td>76.000000</td>\n",
              "    </tr>\n",
              "    <tr>\n",
              "      <th>20</th>\n",
              "      <td>lp2</td>\n",
              "      <td>76.666667</td>\n",
              "    </tr>\n",
              "    <tr>\n",
              "      <th>21</th>\n",
              "      <td>lp2</td>\n",
              "      <td>76.666667</td>\n",
              "    </tr>\n",
              "    <tr>\n",
              "      <th>22</th>\n",
              "      <td>lp2</td>\n",
              "      <td>76.666667</td>\n",
              "    </tr>\n",
              "    <tr>\n",
              "      <th>23</th>\n",
              "      <td>lp2</td>\n",
              "      <td>76.666667</td>\n",
              "    </tr>\n",
              "    <tr>\n",
              "      <th>24</th>\n",
              "      <td>lp2</td>\n",
              "      <td>76.666667</td>\n",
              "    </tr>\n",
              "    <tr>\n",
              "      <th>25</th>\n",
              "      <td>lp3</td>\n",
              "      <td>66.666667</td>\n",
              "    </tr>\n",
              "    <tr>\n",
              "      <th>26</th>\n",
              "      <td>lp3</td>\n",
              "      <td>60.000000</td>\n",
              "    </tr>\n",
              "    <tr>\n",
              "      <th>27</th>\n",
              "      <td>lp3</td>\n",
              "      <td>63.333333</td>\n",
              "    </tr>\n",
              "    <tr>\n",
              "      <th>28</th>\n",
              "      <td>lp3</td>\n",
              "      <td>66.666667</td>\n",
              "    </tr>\n",
              "    <tr>\n",
              "      <th>29</th>\n",
              "      <td>lp3</td>\n",
              "      <td>66.666667</td>\n",
              "    </tr>\n",
              "    <tr>\n",
              "      <th>30</th>\n",
              "      <td>lp4</td>\n",
              "      <td>88.000000</td>\n",
              "    </tr>\n",
              "    <tr>\n",
              "      <th>31</th>\n",
              "      <td>lp4</td>\n",
              "      <td>88.000000</td>\n",
              "    </tr>\n",
              "    <tr>\n",
              "      <th>32</th>\n",
              "      <td>lp4</td>\n",
              "      <td>88.000000</td>\n",
              "    </tr>\n",
              "    <tr>\n",
              "      <th>33</th>\n",
              "      <td>lp4</td>\n",
              "      <td>88.000000</td>\n",
              "    </tr>\n",
              "    <tr>\n",
              "      <th>34</th>\n",
              "      <td>lp4</td>\n",
              "      <td>88.000000</td>\n",
              "    </tr>\n",
              "    <tr>\n",
              "      <th>35</th>\n",
              "      <td>lp5</td>\n",
              "      <td>62.000000</td>\n",
              "    </tr>\n",
              "    <tr>\n",
              "      <th>36</th>\n",
              "      <td>lp5</td>\n",
              "      <td>61.000000</td>\n",
              "    </tr>\n",
              "    <tr>\n",
              "      <th>37</th>\n",
              "      <td>lp5</td>\n",
              "      <td>60.000000</td>\n",
              "    </tr>\n",
              "    <tr>\n",
              "      <th>38</th>\n",
              "      <td>lp5</td>\n",
              "      <td>61.000000</td>\n",
              "    </tr>\n",
              "    <tr>\n",
              "      <th>39</th>\n",
              "      <td>lp5</td>\n",
              "      <td>62.000000</td>\n",
              "    </tr>\n",
              "  </tbody>\n",
              "</table>\n",
              "</div>"
            ],
            "text/plain": [
              "   problem        acc\n",
              "0      lp1  80.000000\n",
              "1      lp1  80.000000\n",
              "2      lp1  80.000000\n",
              "3      lp2  73.333333\n",
              "4      lp2  73.333333\n",
              "5      lp2  73.333333\n",
              "6      lp3  70.000000\n",
              "7      lp3  70.000000\n",
              "8      lp3  70.000000\n",
              "9      lp4  89.333333\n",
              "10     lp4  88.000000\n",
              "11     lp4  86.666667\n",
              "12     lp5  65.000000\n",
              "13     lp5  67.000000\n",
              "14     lp5  67.000000\n",
              "15     lp1  78.000000\n",
              "16     lp1  74.000000\n",
              "17     lp1  76.000000\n",
              "18     lp1  76.000000\n",
              "19     lp1  76.000000\n",
              "20     lp2  76.666667\n",
              "21     lp2  76.666667\n",
              "22     lp2  76.666667\n",
              "23     lp2  76.666667\n",
              "24     lp2  76.666667\n",
              "25     lp3  66.666667\n",
              "26     lp3  60.000000\n",
              "27     lp3  63.333333\n",
              "28     lp3  66.666667\n",
              "29     lp3  66.666667\n",
              "30     lp4  88.000000\n",
              "31     lp4  88.000000\n",
              "32     lp4  88.000000\n",
              "33     lp4  88.000000\n",
              "34     lp4  88.000000\n",
              "35     lp5  62.000000\n",
              "36     lp5  61.000000\n",
              "37     lp5  60.000000\n",
              "38     lp5  61.000000\n",
              "39     lp5  62.000000"
            ]
          },
          "metadata": {
            "tags": []
          },
          "execution_count": 11
        }
      ]
    },
    {
      "cell_type": "code",
      "metadata": {
        "id": "DEWIhjG0u8E1",
        "colab_type": "code",
        "colab": {
          "base_uri": "https://localhost:8080/",
          "height": 318
        },
        "outputId": "e8adb405-2ba7-4edd-931d-6a090e68f54a"
      },
      "source": [
        "ax = df.boxplot(by='problem')\n",
        "ax.set_title('Ensemble with Voting - Accurace')"
      ],
      "execution_count": 17,
      "outputs": [
        {
          "output_type": "execute_result",
          "data": {
            "text/plain": [
              "Text(0.5, 1.0, 'Ensemble with Voting - Accurace')"
            ]
          },
          "metadata": {
            "tags": []
          },
          "execution_count": 17
        },
        {
          "output_type": "display_data",
          "data": {
            "image/png": "[encoded data removed]",
            "text/plain": [
              "<Figure size 432x288 with 1 Axes>"
            ]
          },
          "metadata": {
            "tags": []
          }
        }
      ]
    },
    {
      "cell_type": "code",
      "metadata": {
        "id": "HS_HNVw9vP4o",
        "colab_type": "code",
        "colab": {}
      },
      "source": [
        ""
      ],
      "execution_count": 0,
      "outputs": []
    }
  ]
}